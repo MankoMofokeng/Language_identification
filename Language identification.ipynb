{
 "cells": [
  {
   "cell_type": "markdown",
   "metadata": {
    "papermill": {
     "duration": 0.01786,
     "end_time": "2020-10-07T10:31:41.681660",
     "exception": false,
     "start_time": "2020-10-07T10:31:41.663800",
     "status": "completed"
    },
    "tags": []
   },
   "source": [
    "## Import libraries"
   ]
  },
  {
   "cell_type": "code",
   "execution_count": 1,
   "metadata": {
    "_cell_guid": "79c7e3d0-c299-4dcb-8224-4455121ee9b0",
    "_uuid": "d629ff2d2480ee46fbb7e2d37f6b5fab8052498a",
    "execution": {
     "iopub.execute_input": "2020-10-07T10:31:41.729682Z",
     "iopub.status.busy": "2020-10-07T10:31:41.728858Z",
     "iopub.status.idle": "2020-10-07T10:31:43.774264Z",
     "shell.execute_reply": "2020-10-07T10:31:43.773550Z"
    },
    "papermill": {
     "duration": 2.075554,
     "end_time": "2020-10-07T10:31:43.774414",
     "exception": false,
     "start_time": "2020-10-07T10:31:41.698860",
     "status": "completed"
    },
    "tags": []
   },
   "outputs": [
    {
     "name": "stderr",
     "output_type": "stream",
     "text": [
      "C:\\Users\\manko\\Anaconda3\\lib\\site-packages\\dask\\dataframe\\utils.py:14: FutureWarning: pandas.util.testing is deprecated. Use the functions in the public API at pandas.testing instead.\n",
      "  import pandas.util.testing as tm\n"
     ]
    }
   ],
   "source": [
    "import pandas as pd\n",
    "import numpy as np\n",
    "import nltk\n",
    "import string\n",
    "import re\n",
    "from nltk.tokenize import word_tokenize \n",
    "#from nltk.corpus import stopwords\n",
    "#from nltk.stem import WordNetLemmatizer\n",
    "\n",
    "from sklearn.feature_extraction.text import CountVectorizer\n",
    "from sklearn.feature_extraction.text import TfidfVectorizer, TfidfTransformer\n",
    "\n",
    "from sklearn.model_selection import train_test_split\n",
    "from sklearn.model_selection import StratifiedKFold, cross_val_score\n",
    "\n",
    "from sklearn import linear_model\n",
    "from sklearn.linear_model import LogisticRegression\n",
    "from sklearn.neighbors import KNeighborsClassifier\n",
    "from sklearn.tree import DecisionTreeClassifier\n",
    "from sklearn.svm import LinearSVC\n",
    "from sklearn.svm import SVC\n",
    "from sklearn.model_selection import GridSearchCV\n",
    "from sklearn.naive_bayes import MultinomialNB\n",
    "from sklearn.naive_bayes import GaussianNB\n",
    "from xgboost import XGBClassifier\n",
    "from sklearn.ensemble import VotingClassifier\n",
    "from sklearn.ensemble import RandomForestClassifier, GradientBoostingClassifier, AdaBoostClassifier\n",
    "import lightgbm as lgb\n",
    "\n",
    "from sklearn.pipeline import Pipeline\n",
    "from sklearn.metrics import accuracy_score \n",
    "from sklearn.metrics import precision_score\n",
    "from sklearn.metrics import recall_score\n",
    "from sklearn.metrics import f1_score\n",
    "\n",
    "import seaborn as sns\n",
    "import matplotlib.pyplot as plt\n",
    "%matplotlib inline"
   ]
  },
  {
   "cell_type": "markdown",
   "metadata": {
    "papermill": {
     "duration": 0.016583,
     "end_time": "2020-10-07T10:31:43.808336",
     "exception": false,
     "start_time": "2020-10-07T10:31:43.791753",
     "status": "completed"
    },
    "tags": []
   },
   "source": [
    "## Load in your data"
   ]
  },
  {
   "cell_type": "code",
   "execution_count": 2,
   "metadata": {
    "execution": {
     "iopub.execute_input": "2020-10-07T10:31:43.857364Z",
     "iopub.status.busy": "2020-10-07T10:31:43.856589Z",
     "iopub.status.idle": "2020-10-07T10:31:43.958708Z",
     "shell.execute_reply": "2020-10-07T10:31:43.958045Z"
    },
    "papermill": {
     "duration": 0.132995,
     "end_time": "2020-10-07T10:31:43.958846",
     "exception": false,
     "start_time": "2020-10-07T10:31:43.825851",
     "status": "completed"
    },
    "tags": []
   },
   "outputs": [],
   "source": [
    "train = pd.read_csv('train_set.csv')\n",
    "test = pd.read_csv('test_set.csv')"
   ]
  },
  {
   "cell_type": "code",
   "execution_count": 3,
   "metadata": {},
   "outputs": [
    {
     "data": {
      "text/html": [
       "<div>\n",
       "<style scoped>\n",
       "    .dataframe tbody tr th:only-of-type {\n",
       "        vertical-align: middle;\n",
       "    }\n",
       "\n",
       "    .dataframe tbody tr th {\n",
       "        vertical-align: top;\n",
       "    }\n",
       "\n",
       "    .dataframe thead th {\n",
       "        text-align: right;\n",
       "    }\n",
       "</style>\n",
       "<table border=\"1\" class=\"dataframe\">\n",
       "  <thead>\n",
       "    <tr style=\"text-align: right;\">\n",
       "      <th></th>\n",
       "      <th>lang_id</th>\n",
       "      <th>text</th>\n",
       "    </tr>\n",
       "  </thead>\n",
       "  <tbody>\n",
       "    <tr>\n",
       "      <th>0</th>\n",
       "      <td>xho</td>\n",
       "      <td>umgaqo-siseko wenza amalungiselelo kumaziko ax...</td>\n",
       "    </tr>\n",
       "    <tr>\n",
       "      <th>1</th>\n",
       "      <td>xho</td>\n",
       "      <td>i-dha iya kuba nobulumko bokubeka umsebenzi na...</td>\n",
       "    </tr>\n",
       "    <tr>\n",
       "      <th>2</th>\n",
       "      <td>eng</td>\n",
       "      <td>the province of kwazulu-natal department of tr...</td>\n",
       "    </tr>\n",
       "    <tr>\n",
       "      <th>3</th>\n",
       "      <td>nso</td>\n",
       "      <td>o netefatša gore o ba file dilo ka moka tše le...</td>\n",
       "    </tr>\n",
       "    <tr>\n",
       "      <th>4</th>\n",
       "      <td>ven</td>\n",
       "      <td>khomishini ya ndinganyiso ya mbeu yo ewa maana...</td>\n",
       "    </tr>\n",
       "  </tbody>\n",
       "</table>\n",
       "</div>"
      ],
      "text/plain": [
       "  lang_id                                               text\n",
       "0     xho  umgaqo-siseko wenza amalungiselelo kumaziko ax...\n",
       "1     xho  i-dha iya kuba nobulumko bokubeka umsebenzi na...\n",
       "2     eng  the province of kwazulu-natal department of tr...\n",
       "3     nso  o netefatša gore o ba file dilo ka moka tše le...\n",
       "4     ven  khomishini ya ndinganyiso ya mbeu yo ewa maana..."
      ]
     },
     "execution_count": 3,
     "metadata": {},
     "output_type": "execute_result"
    }
   ],
   "source": [
    "train.head()"
   ]
  },
  {
   "cell_type": "code",
   "execution_count": 4,
   "metadata": {},
   "outputs": [
    {
     "data": {
      "text/html": [
       "<div>\n",
       "<style scoped>\n",
       "    .dataframe tbody tr th:only-of-type {\n",
       "        vertical-align: middle;\n",
       "    }\n",
       "\n",
       "    .dataframe tbody tr th {\n",
       "        vertical-align: top;\n",
       "    }\n",
       "\n",
       "    .dataframe thead th {\n",
       "        text-align: right;\n",
       "    }\n",
       "</style>\n",
       "<table border=\"1\" class=\"dataframe\">\n",
       "  <thead>\n",
       "    <tr style=\"text-align: right;\">\n",
       "      <th></th>\n",
       "      <th>index</th>\n",
       "      <th>text</th>\n",
       "    </tr>\n",
       "  </thead>\n",
       "  <tbody>\n",
       "    <tr>\n",
       "      <th>0</th>\n",
       "      <td>1</td>\n",
       "      <td>Mmasepala, fa maemo a a kgethegileng a letlele...</td>\n",
       "    </tr>\n",
       "    <tr>\n",
       "      <th>1</th>\n",
       "      <td>2</td>\n",
       "      <td>Uzakwaziswa ngokufaneleko nakungafuneka eminye...</td>\n",
       "    </tr>\n",
       "    <tr>\n",
       "      <th>2</th>\n",
       "      <td>3</td>\n",
       "      <td>Tshivhumbeo tshi fana na ngano dza vhathu.</td>\n",
       "    </tr>\n",
       "    <tr>\n",
       "      <th>3</th>\n",
       "      <td>4</td>\n",
       "      <td>Kube inja nelikati betingevakala kutsi titsini...</td>\n",
       "    </tr>\n",
       "    <tr>\n",
       "      <th>4</th>\n",
       "      <td>5</td>\n",
       "      <td>Winste op buitelandse valuta.</td>\n",
       "    </tr>\n",
       "  </tbody>\n",
       "</table>\n",
       "</div>"
      ],
      "text/plain": [
       "   index                                               text\n",
       "0      1  Mmasepala, fa maemo a a kgethegileng a letlele...\n",
       "1      2  Uzakwaziswa ngokufaneleko nakungafuneka eminye...\n",
       "2      3         Tshivhumbeo tshi fana na ngano dza vhathu.\n",
       "3      4  Kube inja nelikati betingevakala kutsi titsini...\n",
       "4      5                      Winste op buitelandse valuta."
      ]
     },
     "execution_count": 4,
     "metadata": {},
     "output_type": "execute_result"
    }
   ],
   "source": [
    "test.head()"
   ]
  },
  {
   "cell_type": "code",
   "execution_count": 5,
   "metadata": {},
   "outputs": [
    {
     "name": "stdout",
     "output_type": "stream",
     "text": [
      "<class 'pandas.core.frame.DataFrame'>\n",
      "RangeIndex: 33000 entries, 0 to 32999\n",
      "Data columns (total 2 columns):\n",
      " #   Column   Non-Null Count  Dtype \n",
      "---  ------   --------------  ----- \n",
      " 0   lang_id  33000 non-null  object\n",
      " 1   text     33000 non-null  object\n",
      "dtypes: object(2)\n",
      "memory usage: 515.8+ KB\n"
     ]
    }
   ],
   "source": [
    "train.info()"
   ]
  },
  {
   "cell_type": "code",
   "execution_count": 6,
   "metadata": {},
   "outputs": [
    {
     "name": "stdout",
     "output_type": "stream",
     "text": [
      "<class 'pandas.core.frame.DataFrame'>\n",
      "RangeIndex: 5682 entries, 0 to 5681\n",
      "Data columns (total 2 columns):\n",
      " #   Column  Non-Null Count  Dtype \n",
      "---  ------  --------------  ----- \n",
      " 0   index   5682 non-null   int64 \n",
      " 1   text    5682 non-null   object\n",
      "dtypes: int64(1), object(1)\n",
      "memory usage: 88.9+ KB\n"
     ]
    }
   ],
   "source": [
    "test.info()"
   ]
  },
  {
   "cell_type": "code",
   "execution_count": 7,
   "metadata": {
    "execution": {
     "iopub.execute_input": "2020-10-07T10:31:44.013821Z",
     "iopub.status.busy": "2020-10-07T10:31:44.012878Z",
     "iopub.status.idle": "2020-10-07T10:31:44.017979Z",
     "shell.execute_reply": "2020-10-07T10:31:44.017352Z"
    },
    "papermill": {
     "duration": 0.040383,
     "end_time": "2020-10-07T10:31:44.018123",
     "exception": false,
     "start_time": "2020-10-07T10:31:43.977740",
     "status": "completed"
    },
    "tags": []
   },
   "outputs": [],
   "source": [
    "#train.lang_id.value_counts()"
   ]
  },
  {
   "cell_type": "markdown",
   "metadata": {},
   "source": [
    "## Cleaning the data"
   ]
  },
  {
   "cell_type": "code",
   "execution_count": 8,
   "metadata": {},
   "outputs": [],
   "source": [
    "#train['text'] = train['text'].str.lower()"
   ]
  },
  {
   "cell_type": "code",
   "execution_count": 9,
   "metadata": {},
   "outputs": [],
   "source": [
    "#print(string.punctuation)"
   ]
  },
  {
   "cell_type": "code",
   "execution_count": 10,
   "metadata": {},
   "outputs": [],
   "source": [
    "# def remove_punctuation(post):\n",
    "#     return ''.join([l for l in post if l not in string.punctuation])"
   ]
  },
  {
   "cell_type": "code",
   "execution_count": 11,
   "metadata": {},
   "outputs": [],
   "source": [
    "#train['text'] = train['text'].apply(remove_punctuation)"
   ]
  },
  {
   "cell_type": "code",
   "execution_count": 12,
   "metadata": {},
   "outputs": [],
   "source": [
    "#train.head()"
   ]
  },
  {
   "cell_type": "markdown",
   "metadata": {
    "papermill": {
     "duration": 0.017369,
     "end_time": "2020-10-07T10:31:44.053776",
     "exception": false,
     "start_time": "2020-10-07T10:31:44.036407",
     "status": "completed"
    },
    "tags": []
   },
   "source": [
    "## Splitting out the X variable from the target"
   ]
  },
  {
   "cell_type": "code",
   "execution_count": 13,
   "metadata": {
    "execution": {
     "iopub.execute_input": "2020-10-07T10:31:44.095546Z",
     "iopub.status.busy": "2020-10-07T10:31:44.094614Z",
     "iopub.status.idle": "2020-10-07T10:31:44.097366Z",
     "shell.execute_reply": "2020-10-07T10:31:44.097898Z"
    },
    "papermill": {
     "duration": 0.026517,
     "end_time": "2020-10-07T10:31:44.098066",
     "exception": false,
     "start_time": "2020-10-07T10:31:44.071549",
     "status": "completed"
    },
    "tags": []
   },
   "outputs": [],
   "source": [
    "y = train['lang_id']\n",
    "X = train['text']"
   ]
  },
  {
   "cell_type": "markdown",
   "metadata": {
    "papermill": {
     "duration": 0.017532,
     "end_time": "2020-10-07T10:31:44.133706",
     "exception": false,
     "start_time": "2020-10-07T10:31:44.116174",
     "status": "completed"
    },
    "tags": []
   },
   "source": [
    "## Vectorization"
   ]
  },
  {
   "cell_type": "code",
   "execution_count": 14,
   "metadata": {
    "execution": {
     "iopub.execute_input": "2020-10-07T10:31:44.204236Z",
     "iopub.status.busy": "2020-10-07T10:31:44.193790Z",
     "iopub.status.idle": "2020-10-07T10:31:45.254842Z",
     "shell.execute_reply": "2020-10-07T10:31:45.254115Z"
    },
    "papermill": {
     "duration": 1.103354,
     "end_time": "2020-10-07T10:31:45.255019",
     "exception": false,
     "start_time": "2020-10-07T10:31:44.151665",
     "status": "completed"
    },
    "tags": []
   },
   "outputs": [],
   "source": [
    "vectorizer = TfidfVectorizer()\n",
    "X_vectorized = vectorizer.fit_transform(X)"
   ]
  },
  {
   "cell_type": "code",
   "execution_count": 15,
   "metadata": {},
   "outputs": [],
   "source": [
    "# vectorizer = CountVectorizer()\n",
    "# X_vectorized = vectorizer.fit_transform(X)"
   ]
  },
  {
   "cell_type": "markdown",
   "metadata": {
    "papermill": {
     "duration": 0.017958,
     "end_time": "2020-10-07T10:31:45.291412",
     "exception": false,
     "start_time": "2020-10-07T10:31:45.273454",
     "status": "completed"
    },
    "tags": []
   },
   "source": [
    "## Splitting the training data into a training and validation set"
   ]
  },
  {
   "cell_type": "code",
   "execution_count": 16,
   "metadata": {
    "execution": {
     "iopub.execute_input": "2020-10-07T10:31:45.334599Z",
     "iopub.status.busy": "2020-10-07T10:31:45.333798Z",
     "iopub.status.idle": "2020-10-07T10:31:45.354945Z",
     "shell.execute_reply": "2020-10-07T10:31:45.354123Z"
    },
    "papermill": {
     "duration": 0.045495,
     "end_time": "2020-10-07T10:31:45.355113",
     "exception": false,
     "start_time": "2020-10-07T10:31:45.309618",
     "status": "completed"
    },
    "tags": []
   },
   "outputs": [],
   "source": [
    "X_train,X_val,y_train,y_val = train_test_split(X_vectorized,y,test_size=.2, stratify=y, random_state=42)"
   ]
  },
  {
   "cell_type": "markdown",
   "metadata": {},
   "source": [
    "## Building a pipeline"
   ]
  },
  {
   "cell_type": "code",
   "execution_count": 17,
   "metadata": {},
   "outputs": [],
   "source": [
    "# classifier = Pipeline([('vect', CountVectorizer()),\n",
    "#                       #('tfidf', TfidfTransformer()),\n",
    "#                       ('clf', MultinomialNB()),\n",
    "# ])\n",
    "# classifier.fit(X_train, y)"
   ]
  },
  {
   "cell_type": "code",
   "execution_count": 18,
   "metadata": {},
   "outputs": [],
   "source": [
    "# parameters = {'vect__ngram_range': [(1, 1), (1, 2), (1, 3)],\n",
    "#               'tfidf__use_idf': (True, False),\n",
    "#               'clf__alpha': (0, 0.01, 0.05, 0.1, 0.3, 0.5),\n",
    "# }\n",
    "# gs_clf = GridSearchCV(classifier, parameters)\n",
    "# gs_clf.fit(X_Train, y)"
   ]
  },
  {
   "cell_type": "markdown",
   "metadata": {
    "papermill": {
     "duration": 0.018099,
     "end_time": "2020-10-07T10:31:45.391807",
     "exception": false,
     "start_time": "2020-10-07T10:31:45.373708",
     "status": "completed"
    },
    "tags": []
   },
   "source": [
    "## Training the model and making evaluations"
   ]
  },
  {
   "cell_type": "code",
   "execution_count": 19,
   "metadata": {},
   "outputs": [],
   "source": [
    "nb = MultinomialNB()\n",
    "nb.fit(X_train, y_train)\n",
    "nb_pred = nb.predict(X_val)"
   ]
  },
  {
   "cell_type": "code",
   "execution_count": 20,
   "metadata": {},
   "outputs": [],
   "source": [
    "# lr = LogisticRegression()\n",
    "# lr.fit(X_train, y_train)\n",
    "# lr_pred = lr.predict(X_val)"
   ]
  },
  {
   "cell_type": "code",
   "execution_count": 21,
   "metadata": {},
   "outputs": [],
   "source": [
    "# #Linear svm\n",
    "# lsvc = LinearSVC()\n",
    "# lsvc.fit(X_train, y_train)\n",
    "# lsvc_pred = lsvc.predict(X_val)"
   ]
  },
  {
   "cell_type": "code",
   "execution_count": 22,
   "metadata": {},
   "outputs": [],
   "source": [
    "# svc = SVC(kernel=\"linear\", C=0.025)\n",
    "# svc.fit(X_train, y_train)\n",
    "# svc_pred = svc.predict(X_val)"
   ]
  },
  {
   "cell_type": "code",
   "execution_count": 23,
   "metadata": {},
   "outputs": [],
   "source": [
    "# rbf = SVC(gamma=2, C=1)\n",
    "# rbf.fit(X_train, y_train)\n",
    "# rbf_pred = rbf.predict(X_val)"
   ]
  },
  {
   "cell_type": "code",
   "execution_count": 24,
   "metadata": {
    "execution": {
     "iopub.execute_input": "2020-10-07T10:31:45.434997Z",
     "iopub.status.busy": "2020-10-07T10:31:45.433825Z",
     "iopub.status.idle": "2020-10-07T10:32:13.157726Z",
     "shell.execute_reply": "2020-10-07T10:32:13.156924Z"
    },
    "papermill": {
     "duration": 27.747703,
     "end_time": "2020-10-07T10:32:13.157852",
     "exception": false,
     "start_time": "2020-10-07T10:31:45.410149",
     "status": "completed"
    },
    "tags": []
   },
   "outputs": [],
   "source": [
    "# rfc = RandomForestClassifier(random_state=0)\n",
    "# rfc.fit(X_train, y_train)\n",
    "# rfc_pred = rfc.predict(X_val)"
   ]
  },
  {
   "cell_type": "code",
   "execution_count": 25,
   "metadata": {},
   "outputs": [],
   "source": [
    "# dtc = DecisionTreeClassifier(random_state=0)\n",
    "# dtc.fit(X_train, y_train)\n",
    "# dtc_pred = dtc.predict(X_val)"
   ]
  },
  {
   "cell_type": "code",
   "execution_count": 26,
   "metadata": {},
   "outputs": [],
   "source": [
    "# gbc = GradientBoostingClassifier(random_state=0)\n",
    "# gbc.fit(X_train, y_train)\n",
    "# gbc_pred = gbc.predict(X_val)"
   ]
  },
  {
   "cell_type": "code",
   "execution_count": 27,
   "metadata": {},
   "outputs": [],
   "source": [
    "# naive_bayes = GaussianNB()\n",
    "# naive_bayes.fit(X_train, y_train)\n",
    "# naive_pred = naive_bayes.predict(X_val)"
   ]
  },
  {
   "cell_type": "code",
   "execution_count": 28,
   "metadata": {},
   "outputs": [],
   "source": [
    "# knc = KNeighborsClassifier()\n",
    "# knc.fit(X_train, y_train)\n",
    "# y_pred = knc.predict(X_val)"
   ]
  },
  {
   "cell_type": "code",
   "execution_count": 29,
   "metadata": {},
   "outputs": [],
   "source": [
    "# lgb = lgb.LGBMClassifier()\n",
    "# lgb.fit(X_train, y_train)\n",
    "# lgb_pred = lgb.predict(X_val)"
   ]
  },
  {
   "cell_type": "code",
   "execution_count": 30,
   "metadata": {},
   "outputs": [],
   "source": [
    "# xgb = XGBClassifier() \n",
    "# xgb.fit(X_train, y_train)\n",
    "# xgb_pred = xgb.predict(X_val)"
   ]
  },
  {
   "cell_type": "markdown",
   "metadata": {},
   "source": [
    "## Tuning the best model"
   ]
  },
  {
   "cell_type": "code",
   "execution_count": 31,
   "metadata": {},
   "outputs": [],
   "source": [
    "# kfold = StratifiedKFold( n_splits = 150)\n",
    "# # Linear SVC model\n",
    "# #Set the parameters according to the first run output (C = 0.09)\n",
    "# param_grid2 = {'C': [0.01, 0.03, 0.06, 0.09]}\n",
    "\n",
    "# # Grid Search on the Linear SVC model\n",
    "# gs_sv = GridSearchCV(LinearSVC(), param_grid = [param_grid2], \n",
    "#                      verbose = 1, cv = kfold, n_jobs = -1)\n",
    "\n",
    "# # Fitting the model to our data\n",
    "# gs_sv.fit(X_train, y_train)\n",
    "\n",
    "# # Find the best estimator\n",
    "# gs_sv_best = gs_sv.best_estimator_\n",
    "\n",
    "# # Print the best parameters\n",
    "# print(gs_sv.best_params_)\n",
    "\n",
    "# # Print the best score\n",
    "# print(gs_sv.best_score_)"
   ]
  },
  {
   "cell_type": "code",
   "execution_count": 32,
   "metadata": {},
   "outputs": [],
   "source": [
    "# # Building Linear SVC model with best parameters\n",
    "# lr_svc = LinearSVC(C=0.06)\n",
    "\n",
    "# # Training the model on the whole training dataset\n",
    "# lr_svc.fit(X_train, y_train)\n",
    "\n",
    "# # Print the best parameters\n",
    "# print(gs_sv.best_params_)\n",
    "\n",
    "# # Print the best score\n",
    "# print(gs_sv.best_score_)"
   ]
  },
  {
   "cell_type": "code",
   "execution_count": 33,
   "metadata": {},
   "outputs": [],
   "source": [
    "# y_pred = lgb.fit(X_val)"
   ]
  },
  {
   "cell_type": "markdown",
   "metadata": {
    "papermill": {
     "duration": 0.018155,
     "end_time": "2020-10-07T10:32:13.194553",
     "exception": false,
     "start_time": "2020-10-07T10:32:13.176398",
     "status": "completed"
    },
    "tags": []
   },
   "source": [
    "## Checking the model performance"
   ]
  },
  {
   "cell_type": "code",
   "execution_count": 34,
   "metadata": {
    "execution": {
     "iopub.execute_input": "2020-10-07T10:32:13.237062Z",
     "iopub.status.busy": "2020-10-07T10:32:13.236346Z",
     "iopub.status.idle": "2020-10-07T10:32:13.245371Z",
     "shell.execute_reply": "2020-10-07T10:32:13.244611Z"
    },
    "papermill": {
     "duration": 0.032679,
     "end_time": "2020-10-07T10:32:13.245522",
     "exception": false,
     "start_time": "2020-10-07T10:32:13.212843",
     "status": "completed"
    },
    "tags": []
   },
   "outputs": [
    {
     "data": {
      "text/plain": [
       "0.9986366057607561"
      ]
     },
     "execution_count": 34,
     "metadata": {},
     "output_type": "execute_result"
    }
   ],
   "source": [
    "f1_score(y_val, nb_pred, average=\"macro\")"
   ]
  },
  {
   "cell_type": "markdown",
   "metadata": {
    "papermill": {
     "duration": 0.018914,
     "end_time": "2020-10-07T10:32:13.283518",
     "exception": false,
     "start_time": "2020-10-07T10:32:13.264604",
     "status": "completed"
    },
    "tags": []
   },
   "source": [
    "## Getting test set ready "
   ]
  },
  {
   "cell_type": "code",
   "execution_count": 35,
   "metadata": {
    "execution": {
     "iopub.execute_input": "2020-10-07T10:32:13.357774Z",
     "iopub.status.busy": "2020-10-07T10:32:13.347375Z",
     "iopub.status.idle": "2020-10-07T10:32:13.858822Z",
     "shell.execute_reply": "2020-10-07T10:32:13.858192Z"
    },
    "papermill": {
     "duration": 0.556389,
     "end_time": "2020-10-07T10:32:13.858972",
     "exception": false,
     "start_time": "2020-10-07T10:32:13.302583",
     "status": "completed"
    },
    "tags": []
   },
   "outputs": [],
   "source": [
    "testx = test['text']\n",
    "test_vect = vectorizer.transform(testx)"
   ]
  },
  {
   "cell_type": "markdown",
   "metadata": {
    "papermill": {
     "duration": 0.01875,
     "end_time": "2020-10-07T10:32:13.896971",
     "exception": false,
     "start_time": "2020-10-07T10:32:13.878221",
     "status": "completed"
    },
    "tags": []
   },
   "source": [
    "## Making predictions "
   ]
  },
  {
   "cell_type": "code",
   "execution_count": 36,
   "metadata": {},
   "outputs": [],
   "source": [
    "y_pred = nb.predict(test_vect)"
   ]
  },
  {
   "cell_type": "code",
   "execution_count": 37,
   "metadata": {
    "execution": {
     "iopub.execute_input": "2020-10-07T10:32:14.822256Z",
     "iopub.status.busy": "2020-10-07T10:32:14.821170Z",
     "iopub.status.idle": "2020-10-07T10:32:14.824844Z",
     "shell.execute_reply": "2020-10-07T10:32:14.824131Z"
    },
    "papermill": {
     "duration": 0.029243,
     "end_time": "2020-10-07T10:32:14.824969",
     "exception": false,
     "start_time": "2020-10-07T10:32:14.795726",
     "status": "completed"
    },
    "tags": []
   },
   "outputs": [],
   "source": [
    "test['lang_id'] = y_pred"
   ]
  },
  {
   "cell_type": "code",
   "execution_count": 38,
   "metadata": {
    "execution": {
     "iopub.execute_input": "2020-10-07T10:32:14.874966Z",
     "iopub.status.busy": "2020-10-07T10:32:14.874115Z",
     "iopub.status.idle": "2020-10-07T10:32:14.882645Z",
     "shell.execute_reply": "2020-10-07T10:32:14.881972Z"
    },
    "papermill": {
     "duration": 0.037156,
     "end_time": "2020-10-07T10:32:14.882778",
     "exception": false,
     "start_time": "2020-10-07T10:32:14.845622",
     "status": "completed"
    },
    "tags": []
   },
   "outputs": [
    {
     "data": {
      "text/html": [
       "<div>\n",
       "<style scoped>\n",
       "    .dataframe tbody tr th:only-of-type {\n",
       "        vertical-align: middle;\n",
       "    }\n",
       "\n",
       "    .dataframe tbody tr th {\n",
       "        vertical-align: top;\n",
       "    }\n",
       "\n",
       "    .dataframe thead th {\n",
       "        text-align: right;\n",
       "    }\n",
       "</style>\n",
       "<table border=\"1\" class=\"dataframe\">\n",
       "  <thead>\n",
       "    <tr style=\"text-align: right;\">\n",
       "      <th></th>\n",
       "      <th>index</th>\n",
       "      <th>text</th>\n",
       "      <th>lang_id</th>\n",
       "    </tr>\n",
       "  </thead>\n",
       "  <tbody>\n",
       "    <tr>\n",
       "      <th>0</th>\n",
       "      <td>1</td>\n",
       "      <td>Mmasepala, fa maemo a a kgethegileng a letlele...</td>\n",
       "      <td>tsn</td>\n",
       "    </tr>\n",
       "    <tr>\n",
       "      <th>1</th>\n",
       "      <td>2</td>\n",
       "      <td>Uzakwaziswa ngokufaneleko nakungafuneka eminye...</td>\n",
       "      <td>nbl</td>\n",
       "    </tr>\n",
       "    <tr>\n",
       "      <th>2</th>\n",
       "      <td>3</td>\n",
       "      <td>Tshivhumbeo tshi fana na ngano dza vhathu.</td>\n",
       "      <td>ven</td>\n",
       "    </tr>\n",
       "    <tr>\n",
       "      <th>3</th>\n",
       "      <td>4</td>\n",
       "      <td>Kube inja nelikati betingevakala kutsi titsini...</td>\n",
       "      <td>ssw</td>\n",
       "    </tr>\n",
       "    <tr>\n",
       "      <th>4</th>\n",
       "      <td>5</td>\n",
       "      <td>Winste op buitelandse valuta.</td>\n",
       "      <td>afr</td>\n",
       "    </tr>\n",
       "  </tbody>\n",
       "</table>\n",
       "</div>"
      ],
      "text/plain": [
       "   index                                               text lang_id\n",
       "0      1  Mmasepala, fa maemo a a kgethegileng a letlele...     tsn\n",
       "1      2  Uzakwaziswa ngokufaneleko nakungafuneka eminye...     nbl\n",
       "2      3         Tshivhumbeo tshi fana na ngano dza vhathu.     ven\n",
       "3      4  Kube inja nelikati betingevakala kutsi titsini...     ssw\n",
       "4      5                      Winste op buitelandse valuta.     afr"
      ]
     },
     "execution_count": 38,
     "metadata": {},
     "output_type": "execute_result"
    }
   ],
   "source": [
    "test.head()"
   ]
  },
  {
   "cell_type": "markdown",
   "metadata": {
    "papermill": {
     "duration": 0.020114,
     "end_time": "2020-10-07T10:32:14.923436",
     "exception": false,
     "start_time": "2020-10-07T10:32:14.903322",
     "status": "completed"
    },
    "tags": []
   },
   "source": [
    "## Creating a submission csv"
   ]
  },
  {
   "cell_type": "code",
   "execution_count": 39,
   "metadata": {
    "execution": {
     "iopub.execute_input": "2020-10-07T10:32:14.974377Z",
     "iopub.status.busy": "2020-10-07T10:32:14.970165Z",
     "iopub.status.idle": "2020-10-07T10:32:15.292997Z",
     "shell.execute_reply": "2020-10-07T10:32:15.292333Z"
    },
    "papermill": {
     "duration": 0.349338,
     "end_time": "2020-10-07T10:32:15.293155",
     "exception": false,
     "start_time": "2020-10-07T10:32:14.943817",
     "status": "completed"
    },
    "tags": []
   },
   "outputs": [],
   "source": [
    "test[['index','lang_id']].to_csv('nbsub.csv', index=False)"
   ]
  },
  {
   "cell_type": "code",
   "execution_count": null,
   "metadata": {},
   "outputs": [],
   "source": []
  }
 ],
 "metadata": {
  "kernelspec": {
   "display_name": "Python 3",
   "language": "python",
   "name": "python3"
  },
  "language_info": {
   "codemirror_mode": {
    "name": "ipython",
    "version": 3
   },
   "file_extension": ".py",
   "mimetype": "text/x-python",
   "name": "python",
   "nbconvert_exporter": "python",
   "pygments_lexer": "ipython3",
   "version": "3.7.4"
  },
  "papermill": {
   "duration": 38.75415,
   "end_time": "2020-10-07T10:32:15.462679",
   "environment_variables": {},
   "exception": null,
   "input_path": "__notebook__.ipynb",
   "output_path": "__notebook__.ipynb",
   "parameters": {},
   "start_time": "2020-10-07T10:31:36.708529",
   "version": "2.1.0"
  }
 },
 "nbformat": 4,
 "nbformat_minor": 4
}
